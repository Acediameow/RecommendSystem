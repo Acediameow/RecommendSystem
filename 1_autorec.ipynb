{
 "cells": [
  {
   "cell_type": "code",
   "execution_count": 1,
   "metadata": {},
   "outputs": [],
   "source": [
    "import numpy as np\n",
    "import pandas as pd\n",
    "import torch\n",
    "import torch.nn as nn\n",
    "import torch.utils.data as Data\n",
    "import torch.optim as optim"
   ]
  },
  {
   "cell_type": "code",
   "execution_count": 2,
   "metadata": {},
   "outputs": [
    {
     "name": "stderr",
     "output_type": "stream",
     "text": [
      "F:\\Ksoftware\\anacondanew\\lib\\site-packages\\ipykernel_launcher.py:12: SettingWithCopyWarning: \n",
      "A value is trying to be set on a copy of a slice from a DataFrame\n",
      "\n",
      "See the caveats in the documentation: https://pandas.pydata.org/pandas-docs/stable/user_guide/indexing.html#returning-a-view-versus-a-copy\n",
      "  if sys.path[0] == '':\n"
     ]
    }
   ],
   "source": [
    "df = pd.read_csv('./data/avazu/ctr_data.csv', usecols = [0, 1, 11], header = 0, names = ['id', 'click', 'device_id'])\n",
    "\n",
    "num = pd.DataFrame([x for x in range(len(set(df['id'])))])\n",
    "df['item_id'] = None\n",
    "df['item_id'] = num\n",
    "\n",
    "df['user_id'] = None\n",
    "l = list(set(df['device_id']))\n",
    "for i in l:\n",
    "    for j in range(len(df['device_id'])):\n",
    "        if df['device_id'][j] == i:\n",
    "            df['user_id'][j] = l.index(i) + 1\n",
    "            \n",
    "df.to_csv('./data/avazu/ctr_data_new.csv', index = False)"
   ]
  },
  {
   "cell_type": "code",
   "execution_count": 3,
   "metadata": {},
   "outputs": [],
   "source": [
    "file = pd.read_csv(\"./data/avazu/ctr_data_new.csv\", header = 0)\n",
    "\n",
    "# 参数 \n",
    "total = 10000\n",
    "ratio = 0.9\n",
    "num_user = 1076\n",
    "num_item = 10000\n",
    "\n",
    "user_train = set()\n",
    "user_test = set()\n",
    "item_train = set()\n",
    "item_test= set()\n",
    "\n",
    "train_r = np.zeros((num_user, num_item))  \n",
    "train_mr = train_r\n",
    "test_r = train_r\n",
    "test_mr = train_r\n",
    "\n",
    "total_idx = np.random.permutation(total)\n",
    "train_idx = total_idx[0: int(total * ratio)]\n",
    "test_idx = total_idx[int(total * ratio):]\n",
    "\n",
    "for i in train_idx:\n",
    "    user_idx = int(file.iloc[i]['user_id'])\n",
    "    item_idx = int(file.iloc[i]['item_id'])\n",
    "\n",
    "    train_r[user_idx, item_idx] = int(file.iloc[i]['click'])\n",
    "    train_mr[user_idx, item_idx] = 1\n",
    "    \n",
    "    user_train.add(user_idx)\n",
    "    item_train.add(item_idx)\n",
    "    \n",
    "for i in test_idx:\n",
    "    user_idx = int(file.iloc[i]['user_id'])\n",
    "    item_idx = int(file.iloc[i]['item_id'])\n",
    "\n",
    "    test_r[user_idx, item_idx] = int(file.iloc[i]['click'])\n",
    "    test_mr[user_idx, item_idx] = 1\n",
    "    \n",
    "    user_test.add(user_idx)\n",
    "    item_test.add(item_idx)"
   ]
  },
  {
   "cell_type": "code",
   "execution_count": 4,
   "metadata": {},
   "outputs": [],
   "source": [
    "class Autorec(nn.Module):\n",
    "    def __init__(self, num_user, num_item):\n",
    "        super(Autorec, self).__init__()\n",
    "        self.num_user = num_user\n",
    "        self.num_item = num_item\n",
    "        self.hidden_unit = 500\n",
    "        self.lambda_value = float(1)\n",
    " \n",
    "        self.encoder = nn.Sequential(\n",
    "            nn.Linear(self.num_item, self.hidden_unit),\n",
    "            nn.Sigmoid()\n",
    "        )\n",
    "        self.decoder = nn.Sequential(\n",
    "            nn.Linear(self.hidden_unit, self.num_item),\n",
    "        )\n",
    " \n",
    "    def forward(self, torch_input):\n",
    "        encoder = self.encoder(torch_input)\n",
    "        decoder = self.decoder(encoder)\n",
    " \n",
    "        return decoder\n",
    " \n",
    "    def loss(self, decoder, input, opt, minput):\n",
    "        temp2 = 0\n",
    "        cost = 0\n",
    " \n",
    "        cost += ((decoder - input) * minput).pow(2).sum()\n",
    "        rmse = cost\n",
    " \n",
    "        for i in opt.param_groups:\n",
    "            for j in i['params']:\n",
    "                if j.data.dim() == 2:\n",
    "                    temp2 += torch.t(j.data).pow(2).sum() \n",
    "        cost += temp2 * self.lambda_value * 0.5\n",
    "        \n",
    "        return cost, rmse\n",
    " \n",
    "    def train(self, epoch):\n",
    "        rmse = 0\n",
    "        cost_all = 0\n",
    "        for step, (batch_x, batch_mask_x, batch_y) in enumerate(loader):\n",
    "            batch_x = batch_x.type(torch.FloatTensor)\n",
    "            batch_mx = batch_mask_x.type(torch.FloatTensor)\n",
    "            decoder = rec(batch_x)\n",
    "            loss, rmse = rec.loss(decoder = decoder, input = batch_x, opt = opt, minput = batch_mx)\n",
    "            opt.zero_grad()\n",
    "            loss.backward()\n",
    "            opt.step()\n",
    "            cost_all += loss\n",
    "            rmse += rmse\n",
    " \n",
    "        rmse = np.sqrt(rmse.detach().cpu().numpy() / (train_mr == 1).sum())\n",
    "        print('epoch', epoch, 'rmse', rmse)\n",
    " \n",
    "    def test(self, epoch):\n",
    "        test_r_tensor = torch.from_numpy(test_r).type(torch.FloatTensor)\n",
    "        test_mr_tensor = torch.from_numpy(test_mr).type(torch.FloatTensor)\n",
    "        decoder = rec(test_r_tensor)\n",
    "        unseen_user_test_list = list(user_test - user_train)\n",
    "        unseen_item_test_list = list(item_test - item_train) \n",
    " \n",
    "        for user in unseen_user_test_list:\n",
    "            for item in unseen_item_test_list:\n",
    "                if test_mr[user, item] == 1:  \n",
    "                    decoder[user, item] = 1\n",
    " \n",
    "        mse = ((decoder - test_r_tensor) * test_mr_tensor).pow(2).sum()\n",
    "        rmse = np.sqrt(mse.detach().cpu().numpy() / (test_mr == 1).sum())\n",
    " \n",
    "        print('epoch', epoch, 'rmse', rmse)"
   ]
  },
  {
   "cell_type": "code",
   "execution_count": 5,
   "metadata": {},
   "outputs": [],
   "source": [
    "rec = Autorec(num_user, num_item)\n",
    "opt = optim.Adam(rec.parameters(), lr = 0.001, weight_decay = 0.001)\n",
    "data =  Data.TensorDataset(torch.from_numpy(train_r), torch.from_numpy(train_mr), torch.from_numpy(train_r))\n",
    "loader = Data.DataLoader(dataset = data, batch_size = 64, shuffle = True)"
   ]
  },
  {
   "cell_type": "code",
   "execution_count": 6,
   "metadata": {},
   "outputs": [
    {
     "name": "stdout",
     "output_type": "stream",
     "text": [
      "epoch 0 rmse 0.4574811887782245\n",
      "epoch 1 rmse 0.46230865974476404\n",
      "epoch 2 rmse 0.4676163896728011\n",
      "epoch 3 rmse 0.4689568293697193\n",
      "epoch 4 rmse 0.4696544659457765\n",
      "epoch 5 rmse 0.4681763938326958\n",
      "epoch 6 rmse 0.46793582939297085\n",
      "epoch 7 rmse 0.4680805897242082\n",
      "epoch 8 rmse 0.4677165952546077\n",
      "epoch 9 rmse 0.46801152767753756\n",
      "epoch 9 rmse 0.02899919732397037\n"
     ]
    }
   ],
   "source": [
    "for epoch in range(0, 10):\n",
    "    rec.train(epoch = epoch)\n",
    "rec.test(epoch = epoch)"
   ]
  },
  {
   "cell_type": "code",
   "execution_count": 7,
   "metadata": {},
   "outputs": [],
   "source": [
    "def recommend(users, K = 10):\n",
    "    df = pd.read_csv('./data/avazu/ctr_data_new.csv')\n",
    "    test_r_tensor = torch.from_numpy(test_r).type(torch.FloatTensor)\n",
    "    test_mr_tensor = torch.from_numpy(test_mr).type(torch.FloatTensor)\n",
    "    decoder = rec(test_r_tensor)\n",
    "    \n",
    "    unseen_user = list(user_test - user_train)\n",
    "    unseen_item = list(item_test - item_train)\n",
    "    \n",
    "    for user in unseen_user:\n",
    "        for item in unseen_item:\n",
    "            if test_mr[user, item] == 1: \n",
    "                decoder[user, item] = 0\n",
    "                    \n",
    "    rmse = decoder.pow(2).detach().cpu().numpy()\n",
    "    \n",
    "    for i in range(0, len(df['device_id'])):\n",
    "        if df['device_id'][i] == users:\n",
    "            idx = df['user_id'][i]\n",
    "            break\n",
    "\n",
    "    l = np.argsort(-rmse[idx])[: K]\n",
    "    \n",
    "    ans = []\n",
    "    for i in l:\n",
    "        for j in df['item_id']:\n",
    "            if i == j:\n",
    "                ans.append(df['id'][i])\n",
    "            else:\n",
    "                continue\n",
    "                \n",
    "    return ans"
   ]
  },
  {
   "cell_type": "code",
   "execution_count": 8,
   "metadata": {},
   "outputs": [
    {
     "name": "stdout",
     "output_type": "stream",
     "text": [
      "[10895497004782100000, 10415768676346500000, 10939160037323600000, 10263506990007800000, 10714771633334900000, 11258882264818400000, 11249673216976000000, 10006415976094800000, 10634154333675600000, 10834473020372700000]\n"
     ]
    }
   ],
   "source": [
    "rec = recommend('a99f214a')\n",
    "print(rec)"
   ]
  },
  {
   "cell_type": "code",
   "execution_count": null,
   "metadata": {},
   "outputs": [],
   "source": []
  }
 ],
 "metadata": {
  "kernelspec": {
   "display_name": "Python 3",
   "language": "python",
   "name": "python3"
  },
  "language_info": {
   "codemirror_mode": {
    "name": "ipython",
    "version": 3
   },
   "file_extension": ".py",
   "mimetype": "text/x-python",
   "name": "python",
   "nbconvert_exporter": "python",
   "pygments_lexer": "ipython3",
   "version": "3.7.4"
  }
 },
 "nbformat": 4,
 "nbformat_minor": 4
}

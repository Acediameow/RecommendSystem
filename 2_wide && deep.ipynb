{
 "cells": [
  {
   "cell_type": "code",
   "execution_count": 1,
   "metadata": {},
   "outputs": [],
   "source": [
    "import pandas as pd\n",
    "from operator import itemgetter\n",
    "from deepctr.models import WDL\n",
    "from deepctr.feature_column import SparseFeat, get_feature_names\n",
    "from sklearn.metrics import mean_squared_error\n",
    "from sklearn.model_selection import train_test_split\n",
    "from sklearn.preprocessing import LabelEncoder"
   ]
  },
  {
   "cell_type": "code",
   "execution_count": 2,
   "metadata": {},
   "outputs": [
    {
     "name": "stderr",
     "output_type": "stream",
     "text": [
      "F:\\Ksoftware\\anacondanew\\lib\\site-packages\\ipykernel_launcher.py:14: SettingWithCopyWarning: \n",
      "A value is trying to be set on a copy of a slice from a DataFrame\n",
      "\n",
      "See the caveats in the documentation: https://pandas.pydata.org/pandas-docs/stable/user_guide/indexing.html#returning-a-view-versus-a-copy\n",
      "  \n"
     ]
    }
   ],
   "source": [
    "df = pd.read_csv('./data/avazu/ctr_data.csv', usecols = [0, 1, 11], header = 0, names = ['id', 'click', 'device_id'])\n",
    "\n",
    "num = pd.DataFrame([x for x in range(len(set(df['id'])))])\n",
    "df['item_id'] = None\n",
    "df['item_id'] = num\n",
    "\n",
    "df['user_id'] = None\n",
    "\n",
    "l = list(set(df['device_id']))\n",
    "\n",
    "for i in l:\n",
    "    for j in range(len(df['device_id'])):\n",
    "        if df['device_id'][j] == i:\n",
    "            df['user_id'][j] = l.index(i)\n",
    "\n",
    "df.to_csv('./data/avazu/ctr_data_new.csv', index = False)"
   ]
  },
  {
   "cell_type": "code",
   "execution_count": 3,
   "metadata": {},
   "outputs": [],
   "source": [
    "data = pd.read_csv('./data/avazu/ctr_data_new.csv')\n",
    "\n",
    "feature = [\"item_id\", \"user_id\"]\n",
    "target = ['click']\n",
    "\n",
    "fixlen_feature = list(SparseFeat(feat, vocabulary_size = data[feat].nunique()) for feat in feature)\n",
    "linear_feature = fixlen_feature\n",
    "dnn_feature = fixlen_feature\n",
    "\n",
    "feature_name = get_feature_names(linear_feature + dnn_feature)\n",
    "\n",
    "train_data, test_data = train_test_split(data, test_size = 0.1)\n",
    "\n",
    "train_input = {name : train_data[name].values for name in feature_name}\n",
    "test_input = {name : test_data[name].values for name in feature_name}"
   ]
  },
  {
   "cell_type": "code",
   "execution_count": 4,
   "metadata": {},
   "outputs": [
    {
     "name": "stdout",
     "output_type": "stream",
     "text": [
      "Train on 8100 samples, validate on 900 samples\n",
      "Epoch 1/10\n"
     ]
    },
    {
     "name": "stderr",
     "output_type": "stream",
     "text": [
      "C:\\Users\\DELL\\AppData\\Roaming\\Python\\Python37\\site-packages\\tensorflow_core\\python\\framework\\indexed_slices.py:433: UserWarning: Converting sparse IndexedSlices to a dense Tensor of unknown shape. This may consume a large amount of memory.\n",
      "  \"Converting sparse IndexedSlices to a dense Tensor of unknown shape. \"\n",
      "C:\\Users\\DELL\\AppData\\Roaming\\Python\\Python37\\site-packages\\tensorflow_core\\python\\framework\\indexed_slices.py:433: UserWarning: Converting sparse IndexedSlices to a dense Tensor of unknown shape. This may consume a large amount of memory.\n",
      "  \"Converting sparse IndexedSlices to a dense Tensor of unknown shape. \"\n"
     ]
    },
    {
     "name": "stdout",
     "output_type": "stream",
     "text": [
      "8100/8100 [==============================] - 1s 125us/sample - loss: 0.1431 - mse: 0.1431 - val_loss: 0.1353 - val_mse: 0.1353\n",
      "Epoch 2/10\n",
      "8100/8100 [==============================] - 0s 31us/sample - loss: 0.0565 - mse: 0.0564 - val_loss: 0.1580 - val_mse: 0.1579\n",
      "Epoch 3/10\n",
      "8100/8100 [==============================] - 0s 30us/sample - loss: 0.0321 - mse: 0.0320 - val_loss: 0.1417 - val_mse: 0.1416\n",
      "Epoch 4/10\n",
      "8100/8100 [==============================] - 0s 43us/sample - loss: 0.0219 - mse: 0.0217 - val_loss: 0.1645 - val_mse: 0.1643\n",
      "Epoch 5/10\n",
      "8100/8100 [==============================] - 0s 37us/sample - loss: 0.0045 - mse: 0.0043 - val_loss: 0.1381 - val_mse: 0.1380\n",
      "Epoch 6/10\n",
      "8100/8100 [==============================] - 0s 41us/sample - loss: 8.2694e-04 - mse: 6.7113e-04 - val_loss: 0.1551 - val_mse: 0.1549\n",
      "Epoch 7/10\n",
      "8100/8100 [==============================] - 0s 30us/sample - loss: 2.7609e-04 - mse: 1.2254e-04 - val_loss: 0.1476 - val_mse: 0.1474\n",
      "Epoch 8/10\n",
      "8100/8100 [==============================] - 0s 32us/sample - loss: 1.9894e-04 - mse: 4.8186e-05 - val_loss: 0.1514 - val_mse: 0.1513\n",
      "Epoch 9/10\n",
      "8100/8100 [==============================] - 0s 44us/sample - loss: 1.6993e-04 - mse: 2.2137e-05 - val_loss: 0.1516 - val_mse: 0.1514\n",
      "Epoch 10/10\n",
      "8100/8100 [==============================] - 0s 37us/sample - loss: 1.5786e-04 - mse: 1.3072e-05 - val_loss: 0.1503 - val_mse: 0.1501\n"
     ]
    },
    {
     "data": {
      "text/plain": [
       "<tensorflow.python.keras.callbacks.History at 0x1a817b2bb48>"
      ]
     },
     "execution_count": 4,
     "metadata": {},
     "output_type": "execute_result"
    }
   ],
   "source": [
    "# 训练模型\n",
    "model = WDL(linear_feature, dnn_feature, task = 'regression')\n",
    "model.compile(\"adam\", \"mse\", metrics = ['mse'])\n",
    "model.fit(train_input, train_data[target].values, batch_size = 64, epochs = 10, verbose = True, validation_split = 0.1)"
   ]
  },
  {
   "cell_type": "code",
   "execution_count": 5,
   "metadata": {},
   "outputs": [
    {
     "name": "stdout",
     "output_type": "stream",
     "text": [
      "mse 0.15864350666981783\n"
     ]
    }
   ],
   "source": [
    "pred = model.predict(test_input, batch_size = 64)\n",
    "mse = mean_squared_error(test_data[target].values, pred)\n",
    "print(\"mse\", mse)"
   ]
  },
  {
   "cell_type": "code",
   "execution_count": 6,
   "metadata": {},
   "outputs": [],
   "source": [
    "def recommend(user, K = 10):\n",
    "    pred = model.predict(test_input, batch_size = 64)\n",
    "    \n",
    "    item_id = test_data['id'].values\n",
    "    click = test_data['click'].values\n",
    "    user_id = test_data['device_id'].values\n",
    "    dic = {}\n",
    "    \n",
    "    for i in range(0, len(user_id)):\n",
    "        if click[i] < 1.0:\n",
    "            dic.setdefault(user_id[i], {}).setdefault(str(item_id[i]), pred[i][0])\n",
    "            \n",
    "    l = list(sorted(dic[user].items(), key = itemgetter(1), reverse = True)[: K])\n",
    "    ans = [x[0] for  x in l]\n",
    "    \n",
    "    return ans"
   ]
  },
  {
   "cell_type": "code",
   "execution_count": 7,
   "metadata": {},
   "outputs": [
    {
     "name": "stdout",
     "output_type": "stream",
     "text": [
      "['10799157821399400000', '10105320998896100000', '10819114215050300000', '10554479005249200000', '11260245336953200000', '11012310647828000000', '10307545701436500000', '10988830792029500000', '1071384169105340000', '1073457329045760000']\n"
     ]
    }
   ],
   "source": [
    "rec = recommend('a99f214a')\n",
    "print(rec)"
   ]
  },
  {
   "cell_type": "code",
   "execution_count": null,
   "metadata": {},
   "outputs": [],
   "source": []
  }
 ],
 "metadata": {
  "kernelspec": {
   "display_name": "Python 3",
   "language": "python",
   "name": "python3"
  },
  "language_info": {
   "codemirror_mode": {
    "name": "ipython",
    "version": 3
   },
   "file_extension": ".py",
   "mimetype": "text/x-python",
   "name": "python",
   "nbconvert_exporter": "python",
   "pygments_lexer": "ipython3",
   "version": "3.7.4"
  }
 },
 "nbformat": 4,
 "nbformat_minor": 4
}
